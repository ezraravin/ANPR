{
 "cells": [
  {
   "cell_type": "code",
   "execution_count": 1,
   "id": "4d2ac6e5",
   "metadata": {},
   "outputs": [],
   "source": [
    "import cv2\n",
    "import numpy as np\n",
    "import os\n",
    "import pytesseract as pt\n",
    "from sklearn import tree\n",
    "import matplotlib.pyplot as plt"
   ]
  },
  {
   "cell_type": "code",
   "execution_count": 2,
   "id": "72659075",
   "metadata": {},
   "outputs": [],
   "source": [
    "# GLOBAL SETTINGS\n",
    "INPUT_WIDTH =  640\n",
    "INPUT_HEIGHT = 640"
   ]
  },
  {
   "cell_type": "code",
   "execution_count": null,
   "id": "92afda5f",
   "metadata": {},
   "outputs": [],
   "source": [
    "# LOAD YOLO MODEL & SET DEEP NEURAL NETWORK PROCESSING UNIT\n",
    "net = cv2.dnn.readNetFromONNX('./Model/weights/best.onnx')\n",
    "net.setPreferableBackend(cv2.dnn.DNN_BACKEND_OPENCV)\n",
    "net.setPreferableTarget(cv2.dnn.DNN_TARGET_CPU)\n",
    "net"
   ]
  }
 ],
 "metadata": {
  "kernelspec": {
   "display_name": "Python 3 (ipykernel)",
   "language": "python",
   "name": "python3"
  },
  "language_info": {
   "codemirror_mode": {
    "name": "ipython",
    "version": 3
   },
   "file_extension": ".py",
   "mimetype": "text/x-python",
   "name": "python",
   "nbconvert_exporter": "python",
   "pygments_lexer": "ipython3",
   "version": "3.9.13"
  }
 },
 "nbformat": 4,
 "nbformat_minor": 5
}
